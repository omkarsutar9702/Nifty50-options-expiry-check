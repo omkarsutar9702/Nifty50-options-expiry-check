{
 "cells": [
  {
   "cell_type": "markdown",
   "metadata": {},
   "source": [
    "# Hypothesis Testing\n",
    "#### To statistically test whether the option expiry of Nifty50 causes the market to close on the downside "
   ]
  },
  {
   "cell_type": "code",
   "execution_count": null,
   "metadata": {},
   "outputs": [],
   "source": [
    "# Import necessary libraries\n",
    "from dateutil.relativedelta import relativedelta\n",
    "from datetime import date, timedelta\n",
    "from scipy import stats\n",
    "import yfinance as yf\n",
    "import pandas as pd\n",
    "import numpy as np"
   ]
  },
  {
   "cell_type": "code",
   "execution_count": null,
   "metadata": {},
   "outputs": [],
   "source": [
    "\n",
    "# Define the ticker symbol for Nifty 50\n",
    "ticker_symbol = '^NSEI'\n",
    "\n",
    "# Define the start and end dates for the data\n",
    "end_date = date.today()  # Set the end date as today's date\n",
    "start_date = end_date - relativedelta(years=3)  # Set the start date as 2 years before the end date\n",
    "\n",
    "# Download historical data\n",
    "df = yf.download(ticker_symbol, start=start_date, end=end_date)"
   ]
  },
  {
   "cell_type": "code",
   "execution_count": null,
   "metadata": {},
   "outputs": [],
   "source": [
    "# Reset the index of the DataFrame to the default integer index and modify the DataFrame in place\n",
    "df.reset_index(inplace=True)\n",
    "\n",
    "# Create a new column 'Day of Week' that contains the name of the day (e.g., 'Monday', 'Tuesday') from the 'Date' column\n",
    "df['Day of Week'] = df['Date'].dt.day_name()\n",
    "\n",
    "# Create a new column 'No of WeekDay' that contains the day of the week as a number (0=Monday, 6=Sunday)\n",
    "df['No of WeekDay'] = df['Date'].dt.weekday\n",
    "\n",
    "# Calculate the percentage change in the 'Close' column from the previous day and create a new column '%_CloseChange'\n",
    "df['%_CloseChange'] = df['Close'].pct_change()\n",
    "\n",
    "# Create a new column 'Market_Direction' to indicate whether the market moved up or down based on '%_CloseChange'\n",
    "df['Market_Direction'] = np.where(df['%_CloseChange'] > 0, 'UP', 'DOWN')\n",
    "\n",
    "# create the column which will divide the data into expiry days and non expiry days\n",
    "df['Is_Expiry'] = np.where(df['Day of Week'] =='Thursday' , 'Expiry', 'Not Expiry')"
   ]
  },
  {
   "cell_type": "code",
   "execution_count": null,
   "metadata": {},
   "outputs": [],
   "source": [
    "# Separate the data into two groups\n",
    "expiry_returns = df[df['Is_Expiry'] == 'Expiry']['%_CloseChange'].dropna()\n",
    "non_expiry_returns = df[df['Is_Expiry'] == 'Not Expiry']['%_CloseChange'].dropna()"
   ]
  },
  {
   "cell_type": "code",
   "execution_count": null,
   "metadata": {},
   "outputs": [],
   "source": [
    "# Perform a t-test\n",
    "t_stat, p_value = stats.ttest_ind(expiry_returns, non_expiry_returns, alternative='less')\n",
    "\n",
    "# Conclusion\n",
    "if p_value < 0.05:\n",
    "    print(f\"T-statistic: {t_stat}, P-value: {p_value}\")\n",
    "    print(\"Reject the null hypothesis. Option expiry days have a significantly lower return.\")\n",
    "else:\n",
    "    print(f\"T-statistic: {t_stat}, P-value: {p_value}\")\n",
    "    print(\"Fail to reject the null hypothesis. No significant difference in returns.\")\n"
   ]
  },
  {
   "cell_type": "code",
   "execution_count": null,
   "metadata": {},
   "outputs": [],
   "source": [
    "df.to_csv('nifty_data.csv')"
   ]
  }
 ],
 "metadata": {
  "kernelspec": {
   "display_name": "EnvI",
   "language": "python",
   "name": "python3"
  },
  "language_info": {
   "codemirror_mode": {
    "name": "ipython",
    "version": 3
   },
   "file_extension": ".py",
   "mimetype": "text/x-python",
   "name": "python",
   "nbconvert_exporter": "python",
   "pygments_lexer": "ipython3",
   "version": "3.10.6"
  }
 },
 "nbformat": 4,
 "nbformat_minor": 2
}
