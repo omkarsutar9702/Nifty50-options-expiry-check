{
 "cells": [
  {
   "cell_type": "markdown",
   "metadata": {},
   "source": [
    "# my assumption: \n",
    "### 1. market goes down every thrusday becasue of options expiry\n",
    "### 2. market goes down every friday because of market closure"
   ]
  },
  {
   "cell_type": "code",
   "execution_count": null,
   "metadata": {},
   "outputs": [],
   "source": [
    "# Import necessary libraries\n",
    "from dateutil.relativedelta import relativedelta\n",
    "from datetime import date, timedelta\n",
    "import yfinance as yf\n",
    "import pandas as pd\n",
    "import numpy as np"
   ]
  },
  {
   "cell_type": "code",
   "execution_count": null,
   "metadata": {},
   "outputs": [],
   "source": [
    "\n",
    "# Define the ticker symbol for Nifty 50\n",
    "ticker_symbol = '^NSEI'\n",
    "\n",
    "# Define the start and end dates for the data\n",
    "end_date = date.today()  # Set the end date as today's date\n",
    "start_date = end_date - relativedelta(years=3)  # Set the start date as 2 years before the end date\n",
    "\n",
    "# Download historical data\n",
    "df = yf.download(ticker_symbol, start=start_date, end=end_date)"
   ]
  },
  {
   "cell_type": "code",
   "execution_count": null,
   "metadata": {},
   "outputs": [],
   "source": [
    "# Reset the index of the DataFrame to the default integer index and modify the DataFrame in place\n",
    "df.reset_index(inplace=True)\n",
    "\n",
    "# Create a new column 'Day of Week' that contains the name of the day (e.g., 'Monday', 'Tuesday') from the 'Date' column\n",
    "df['Day of Week'] = df['Date'].dt.day_name()\n",
    "\n",
    "# Create a new column 'No of WeekDay' that contains the day of the week as a number (0=Monday, 6=Sunday)\n",
    "df['No of WeekDay'] = df['Date'].dt.weekday\n",
    "\n",
    "# Calculate the percentage change in the 'Close' column from the previous day and create a new column '%_CloseChange'\n",
    "df['%_CloseChange'] = df['Close'].pct_change() * 100\n",
    "\n",
    "# Create a new column 'Market_Direction' to indicate whether the market moved up or down based on '%_CloseChange'\n",
    "df['Market_Direction'] = np.where(df['%_CloseChange'] > 0, 'UP', 'DOWN')\n"
   ]
  },
  {
   "cell_type": "code",
   "execution_count": null,
   "metadata": {},
   "outputs": [],
   "source": [
    "df.to_csv('nifty_data.csv')"
   ]
  },
  {
   "cell_type": "code",
   "execution_count": null,
   "metadata": {},
   "outputs": [],
   "source": []
  }
 ],
 "metadata": {
  "kernelspec": {
   "display_name": "EnvI",
   "language": "python",
   "name": "python3"
  },
  "language_info": {
   "codemirror_mode": {
    "name": "ipython",
    "version": 3
   },
   "file_extension": ".py",
   "mimetype": "text/x-python",
   "name": "python",
   "nbconvert_exporter": "python",
   "pygments_lexer": "ipython3",
   "version": "3.10.6"
  }
 },
 "nbformat": 4,
 "nbformat_minor": 2
}
