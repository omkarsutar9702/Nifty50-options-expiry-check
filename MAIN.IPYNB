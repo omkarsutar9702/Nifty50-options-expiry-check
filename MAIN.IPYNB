{
 "cells": [
  {
   "cell_type": "markdown",
   "metadata": {},
   "source": [
    "# Hypothesis Testing\n",
    "### To statistically test whether the option expiry of Nifty50 causes the market to close on the downside \n",
    "##### Null Hypothesis (H0): The stock market does not close lower on options expiry days compared to non-expiry days. \n",
    "##### Alternative Hypothesis (H1): The stock market closes lower on options expiry days compared to non-expiry days."
   ]
  },
  {
   "cell_type": "code",
   "execution_count": null,
   "metadata": {},
   "outputs": [],
   "source": [
    "# Import necessary libraries\n",
    "from dateutil.relativedelta import relativedelta\n",
    "from datetime import date, timedelta\n",
    "from scipy import stats\n",
    "import yfinance as yf\n",
    "import pandas as pd\n",
    "import numpy as np"
   ]
  },
  {
   "cell_type": "markdown",
   "metadata": {},
   "source": [
    "### Data Collection\n",
    "#### Source: Historical stock data is fetched from Yahoo Finance using yfinance.\n",
    "#### Time Period: Last 3 years of Nifty50 data."
   ]
  },
  {
   "cell_type": "code",
   "execution_count": null,
   "metadata": {},
   "outputs": [],
   "source": [
    "\n",
    "# Define the ticker symbol for Nifty 50\n",
    "ticker_symbol = '^NSEI'\n",
    "\n",
    "# Define the start and end dates for the data\n",
    "end_date = date.today()  # Set the end date as today's date\n",
    "start_date = end_date - relativedelta(years=3)  # Set the start date as 2 years before the end date\n",
    "\n",
    "# Download historical data\n",
    "df = yf.download(ticker_symbol, start=start_date, end=end_date)"
   ]
  },
  {
   "cell_type": "markdown",
   "metadata": {},
   "source": [
    "### Data Preparation\n",
    "#### Resetting Index: The date index is reset for easier manipulation.\n",
    "#### Day Identification: The day of the week is identified to determine if it's an expiry day (Thursday).\n",
    "#### Market Direction: A new column is created to indicate whether the market moved up or down based on the percentage change in closing price."
   ]
  },
  {
   "cell_type": "code",
   "execution_count": null,
   "metadata": {},
   "outputs": [],
   "source": [
    "# Reset the index of the DataFrame to the default integer index and modify the DataFrame in place\n",
    "df.reset_index(inplace=True)\n",
    "\n",
    "# Create a new column 'Day of Week' that contains the name of the day (e.g., 'Monday', 'Tuesday') from the 'Date' column\n",
    "df['Day of Week'] = df['Date'].dt.day_name()\n",
    "\n",
    "# Create a new column 'No of WeekDay' that contains the day of the week as a number (0=Monday, 6=Sunday)\n",
    "df['No of WeekDay'] = df['Date'].dt.weekday\n",
    "\n",
    "# Calculate the percentage change in the 'Close' column from the previous day and create a new column '%_CloseChange'\n",
    "df['%_CloseChange'] = df['Close'].pct_change()\n",
    "\n",
    "# Create a new column 'Market_Direction' to indicate whether the market moved up or down based on '%_CloseChange'\n",
    "df['Market_Direction'] = np.where(df['%_CloseChange'] > 0, 'UP', 'DOWN')\n"
   ]
  },
  {
   "cell_type": "markdown",
   "metadata": {},
   "source": [
    "### Hypothesis Testing\n",
    "#### Groups: The data is split into two groups—expiry days and non-expiry days.\n",
    "#### T-Test: A one-tailed t-test is performed to see if the returns on expiry days are significantly lower."
   ]
  },
  {
   "cell_type": "code",
   "execution_count": 26,
   "metadata": {},
   "outputs": [
    {
     "name": "stdout",
     "output_type": "stream",
     "text": [
      "T-statistic: -0.599127120703716, P-value: 0.2747771252728836\n",
      "---------------------***---------------------\n",
      "Fail to reject the null hypothesis. No significant difference in returns.\n"
     ]
    }
   ],
   "source": [
    "import numpy as np\n",
    "from scipy import stats\n",
    "\n",
    "def test_expiry_effect(df, expiry_day='Thursday', non_expiry_day='Monday'):\n",
    "    # Define conditions to classify days as 'Expiry' or 'Non - Expiry'\n",
    "    conditions = [\n",
    "        (df['Day of Week'] == expiry_day),        # Condition for expiry day (e.g., Thursday)\n",
    "        (df['Day of Week'] == non_expiry_day)     # Condition for non-expiry day (e.g., Monday)\n",
    "    ]\n",
    "    \n",
    "    # Define the corresponding labels for the conditions\n",
    "    choices = ['Expiry', 'Non - Expiry']\n",
    "\n",
    "    # Create a new column 'Is_Expiry' in the DataFrame based on the conditions and choices\n",
    "    df['Is_Expiry'] = np.select(conditions, choices, default=np.nan)\n",
    "\n",
    "    # Filter the DataFrame to separate returns for expiry and non-expiry days\n",
    "    expiry_returns = df[df['Is_Expiry'] == 'Expiry']['%_CloseChange'].dropna()          # Returns for expiry days\n",
    "    non_expiry_returns = df[df['Is_Expiry'] == 'Non - Expiry']['%_CloseChange'].dropna() # Returns for non-expiry days\n",
    "\n",
    "    # Perform a one-tailed t-test to check if expiry day returns are significantly lower than non-expiry day returns\n",
    "    t_stat, p_value = stats.ttest_ind(expiry_returns, non_expiry_returns, alternative='less')\n",
    "\n",
    "    # Interpret the p-value to determine if the null hypothesis should be rejected\n",
    "    if p_value < 0.05:\n",
    "        # If p-value is less than 0.05, reject the null hypothesis\n",
    "        print(f\"T-statistic: {t_stat}, P-value: {p_value}\")\n",
    "        print(\"---------------------***---------------------\")\n",
    "        print(\"Reject the null hypothesis. Option expiry days have a significantly lower return.\")\n",
    "    else:\n",
    "        # If p-value is greater than or equal to 0.05, fail to reject the null hypothesis\n",
    "        print(f\"T-statistic: {t_stat}, P-value: {p_value}\")\n",
    "        print(\"---------------------***---------------------\")\n",
    "        print(\"Fail to reject the null hypothesis. No significant difference in returns.\")\n",
    "\n",
    "#  Test for 'Monday' as expiry day and 'Tuesday' as non-expiry day\n",
    "test_expiry_effect(df, expiry_day='Monday', non_expiry_day='Tuesday')\n"
   ]
  },
  {
   "cell_type": "code",
   "execution_count": null,
   "metadata": {},
   "outputs": [],
   "source": [
    "df.to_csv('nifty_data.csv')"
   ]
  }
 ],
 "metadata": {
  "kernelspec": {
   "display_name": "EnvI",
   "language": "python",
   "name": "python3"
  },
  "language_info": {
   "codemirror_mode": {
    "name": "ipython",
    "version": 3
   },
   "file_extension": ".py",
   "mimetype": "text/x-python",
   "name": "python",
   "nbconvert_exporter": "python",
   "pygments_lexer": "ipython3",
   "version": "3.10.6"
  }
 },
 "nbformat": 4,
 "nbformat_minor": 2
}
