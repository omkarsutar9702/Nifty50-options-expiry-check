{
    "cells": [
        {
            "cell_type": "markdown",
            "metadata": {
                "azdata_cell_guid": "a5127ad6-e2ae-42fd-a1d4-3f58fc7ac006"
            },
            "source": [
                "## Hypothesis Testing: Impact of Options Expiry on Nifty50 Closing Prices\n",
                "### Analyzing Whether Nifty50 Closes Lower on Options Expiry Days\n",
                "Omkar Sutar\n",
                "\n",
                "#### Objective:\n",
                "To statistically test whether the Nifty50 closes lower on options expiry days.\n",
                "\n",
                "#### Hypotheses:\n",
                "\n",
                "Null Hypothesis (H0): The Nifty50 does not close lower on options expiry days.\n",
                "\n",
                "Alternative Hypothesis (H1): The Nifty50 closes lower on options expiry days."
            ]
        },
        {
            "cell_type": "code",
            "execution_count": null,
            "metadata": {
                "azdata_cell_guid": "4c0500cd-4c01-4863-b788-8411f04a9421",
                "language": "sql"
            },
            "outputs": [],
            "source": [
                "from dateutil.relativedelta import relativedelta\n",
                "from datetime import date, timedelta\n",
                "from scipy import stats\n",
                "import yfinance as yf\n",
                "import pandas as pd\n",
                "import numpy as np"
            ]
        },
        {
            "cell_type": "markdown",
            "metadata": {
                "azdata_cell_guid": "b8ca00f0-796d-4b2a-9a50-cf46aca816d1"
            },
            "source": [
                "#### Data Collection\n",
                "Source:\n",
                "Historical data from Yahoo Finance (yfinance).\n",
                "\n",
                "Time Frame:\n",
                "Last 3 years of Nifty50 data.\n",
                "\n",
                "Ticker Symbol:\n",
                "^NSEI (Nifty50 Index)"
            ]
        },
        {
            "cell_type": "code",
            "execution_count": null,
            "metadata": {
                "azdata_cell_guid": "09a2930b-e9b0-4b53-a742-82213a35370f",
                "language": "sql"
            },
            "outputs": [],
            "source": [
                "\n",
                "# Define the ticker symbol for Nifty 50\n",
                "ticker_symbol = '^NSEI'\n",
                "\n",
                "# Define the start and end dates for the data\n",
                "end_date = date.today()  # Set the end date as today's date\n",
                "start_date = end_date - relativedelta(years=3)  # Set the start date as 2 years before the end date\n",
                "\n",
                "# Download historical data\n",
                "df = yf.download(ticker_symbol, start=start_date, end=end_date)"
            ]
        },
        {
            "cell_type": "markdown",
            "metadata": {
                "azdata_cell_guid": "72ad2fab-69c9-404c-af75-e9a0f34ddf7e"
            },
            "source": [
                "#### Data Preparation\n",
                "\n",
                "Data Resetting:\n",
                "The date index is reset for easier manipulation.\n",
                "\n",
                "Day Identification:\n",
                "\n",
                "Weekday identified for each trading day.\n",
                "Thursdays marked as \"Expiry Days.\"\n",
                "\n",
                "Market Direction:\n",
                "\n",
                "Calculated based on the percentage change in closing prices.\n",
                "Labeled as \"UP\" or \"DOWN.\""
            ]
        },
        {
            "cell_type": "code",
            "execution_count": null,
            "metadata": {
                "azdata_cell_guid": "5e3ce251-4530-4856-92b0-034faeea8d20",
                "language": "sql"
            },
            "outputs": [],
            "source": [
                "# Reset the index of the DataFrame to the default integer index and modify the DataFrame in place\n",
                "df.reset_index(inplace=True)\n",
                "\n",
                "# Create a new column 'Day of Week' that contains the name of the day (e.g., 'Monday', 'Tuesday') from the 'Date' column\n",
                "df['Day of Week'] = df['Date'].dt.day_name()\n",
                "\n",
                "# Create a new column 'No of WeekDay' that contains the day of the week as a number (0=Monday, 6=Sunday)\n",
                "df['No of WeekDay'] = df['Date'].dt.weekday\n",
                "\n",
                "# Calculate the percentage change in the 'Close' column from the previous day and create a new column '%_CloseChange'\n",
                "df['%_CloseChange'] = df['Close'].pct_change()\n",
                "\n",
                "# Create a new column 'Market_Direction' to indicate whether the market moved up or down based on '%_CloseChange'\n",
                "df['Market_Direction'] = np.where(df['%_CloseChange'] > 0, 'UP', 'DOWN')\n"
            ]
        },
        {
            "cell_type": "markdown",
            "metadata": {
                "azdata_cell_guid": "09d79333-1172-4530-9d66-6437b1cb0dd9"
            },
            "source": [
                "#### Hypothesis Testing\n",
                "Grouping Data:\n",
                "\n",
                "Expiry Days: Thursdays (options expiry days).\n",
                "\n",
                "Non-Expiry Days: All other days or any other days\n",
                "\n",
                "T-Test:\n",
                "\n",
                "A one-tailed t-test was conducted to compare returns.\n",
                "Goal: To check if returns are significantly lower on expiry days."
            ]
        },
        {
            "cell_type": "code",
            "execution_count": 31,
            "metadata": {
                "azdata_cell_guid": "dabe3187-609a-4052-ad42-775d6524f1ad",
                "language": "sql"
            },
            "outputs": [
                {
                    "name": "stdout",
                    "output_type": "stream",
                    "text": [
                        "T-statistic: -0.599127120703716, P-value: 0.2747771252728836\n",
                        "---------------------***---------------------\n",
                        "Fail to reject the null hypothesis. No significant difference in returns.\n"
                    ]
                }
            ],
            "source": [
                "def test_expiry_effect(df, expiry_day='Thursday', non_expiry_day='Monday'):\n",
                "    # Define conditions to classify days as 'Expiry' or 'Non - Expiry'\n",
                "    conditions = [\n",
                "        (df['Day of Week'] == expiry_day),        # Condition for expiry day (e.g., Thursday)\n",
                "        (df['Day of Week'] == non_expiry_day)     # Condition for non-expiry day (e.g., Monday)\n",
                "    ]\n",
                "    \n",
                "    # Define the corresponding labels for the conditions\n",
                "    choices = ['Expiry', 'Non - Expiry']\n",
                "\n",
                "    # Create a new column 'Is_Expiry' in the DataFrame based on the conditions and choices\n",
                "    df['Is_Expiry'] = np.select(conditions, choices, default=np.nan)\n",
                "\n",
                "    # Filter the DataFrame to separate returns for expiry and non-expiry days\n",
                "    expiry_returns = df[df['Is_Expiry'] == 'Expiry']['%_CloseChange'].dropna()          # Returns for expiry days\n",
                "    non_expiry_returns = df[df['Is_Expiry'] == 'Non - Expiry']['%_CloseChange'].dropna() # Returns for non-expiry days\n",
                "\n",
                "    # Perform a one-tailed t-test to check if expiry day returns are significantly lower than non-expiry day returns\n",
                "    t_stat, p_value = stats.ttest_ind(expiry_returns, non_expiry_returns, alternative='less')\n",
                "\n",
                "    # Interpret the p-value to determine if the null hypothesis should be rejected\n",
                "    if p_value < 0.05:\n",
                "        # If p-value is less than 0.05, reject the null hypothesis\n",
                "        print(f\"T-statistic: {t_stat}, P-value: {p_value}\")\n",
                "        print(\"---------------------***---------------------\")\n",
                "        print(\"Reject the null hypothesis. Option expiry days have a significantly lower return.\")\n",
                "    else:\n",
                "        # If p-value is greater than or equal to 0.05, fail to reject the null hypothesis\n",
                "        print(f\"T-statistic: {t_stat}, P-value: {p_value}\")\n",
                "        print(\"---------------------***---------------------\")\n",
                "        print(\"Fail to reject the null hypothesis. No significant difference in returns.\")\n",
                "\n",
                "#  Test for 'Monday' as expiry day and 'Tuesday' as non-expiry day\n",
                "test_expiry_effect(df, expiry_day='Monday', non_expiry_day='Tuesday')\n"
            ]
        },
        {
            "cell_type": "code",
            "execution_count": null,
            "metadata": {
                "azdata_cell_guid": "5b662307-1973-41a6-9b46-2bc81f0d5ea6",
                "language": "sql"
            },
            "outputs": [],
            "source": []
        }
    ],
    "metadata": {
        "kernelspec": {
            "display_name": "EnvI",
            "language": "python",
            "name": "python3"
        },
        "language_info": {
            "name": "python",
            "version": "3.10.6"
        }
    },
    "nbformat": 4,
    "nbformat_minor": 2
}
